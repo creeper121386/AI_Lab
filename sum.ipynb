{
 "cells": [
  {
   "cell_type": "markdown",
   "metadata": {
    "slideshow": {
     "slide_type": "slide"
    }
   },
   "source": [
    "# 学期总结 by Why\n",
    "2018.9.8, unique studio"
   ]
  },
  {
   "cell_type": "markdown",
   "metadata": {
    "slideshow": {
     "slide_type": "slide"
    }
   },
   "source": [
    "## Reading\n",
    "\n",
    "- 《深度学习》周志华\n",
    "- 《Reinforcement Learning：An Introduction》\n",
    "- 《深度学习》\n",
    "- 《贝叶斯网引论》\n",
    "- 《SVM通俗导论》\n",
    "- 《机器学习实战》\n",
    "- 《数学之美》"
   ]
  },
  {
   "cell_type": "markdown",
   "metadata": {
    "slideshow": {
     "slide_type": "slide"
    }
   },
   "source": [
    "## Vedio\n",
    "\n",
    "- CS231n\n",
    "- 李宏毅机器学习&深度学习课程\n",
    "- 强化学习"
   ]
  },
  {
   "cell_type": "markdown",
   "metadata": {
    "slideshow": {
     "slide_type": "slide"
    }
   },
   "source": [
    "## Others\n",
    "\n",
    "- Linux shell\n",
    "- pyhton爬虫\n",
    "- 修电脑\n",
    "- Julia"
   ]
  },
  {
   "cell_type": "markdown",
   "metadata": {
    "slideshow": {
     "slide_type": "slide"
    }
   },
   "source": [
    "## 博客\n",
    "https://creeper121386.github.io/\n",
    "\n",
    "持续更新中！"
   ]
  },
  {
   "cell_type": "markdown",
   "metadata": {
    "slideshow": {
     "slide_type": "slide"
    }
   },
   "source": [
    "## Code\n",
    "\n",
    "- 每周任务\n",
    "- 各种GAN：GAN/WGAN/WGAN-GP...\n",
    "- pytorch\n",
    "- Hackweek\n",
    "- 2018浦发-百度金融大数据挑战赛"
   ]
  },
  {
   "cell_type": "markdown",
   "metadata": {
    "slideshow": {
     "slide_type": "slide"
    }
   },
   "source": [
    "## Hackweek项目\n",
    "https://github.com/creeper121386/AI-Avatar-Creater"
   ]
  },
  {
   "cell_type": "markdown",
   "metadata": {
    "slideshow": {
     "slide_type": "slide"
    }
   },
   "source": [
    "## 2018浦发-百度金融大数据挑战赛\n",
    "\n",
    "http://dianshi.baidu.com/gemstone/competitions/detail?raceId=21"
   ]
  },
  {
   "cell_type": "markdown",
   "metadata": {
    "slideshow": {
     "slide_type": "slide"
    }
   },
   "source": [
    "# **That's all !**\n",
    "## Thanks<(*￣▽￣*)/"
   ]
  }
 ],
 "metadata": {
  "celltoolbar": "Slideshow",
  "kernelspec": {
   "display_name": "Python 3",
   "language": "python",
   "name": "python3"
  },
  "language_info": {
   "codemirror_mode": {
    "name": "ipython",
    "version": 3
   },
   "file_extension": ".py",
   "mimetype": "text/x-python",
   "name": "python",
   "nbconvert_exporter": "python",
   "pygments_lexer": "ipython3",
   "version": "3.6.5"
  },
  "latex_envs": {
   "LaTeX_envs_menu_present": true,
   "autoclose": false,
   "autocomplete": true,
   "bibliofile": "biblio.bib",
   "cite_by": "apalike",
   "current_citInitial": 1,
   "eqLabelWithNumbers": true,
   "eqNumInitial": 1,
   "hotkeys": {
    "equation": "Ctrl-E",
    "itemize": "Ctrl-I"
   },
   "labels_anchors": false,
   "latex_user_defs": false,
   "report_style_numbering": false,
   "user_envs_cfg": false
  }
 },
 "nbformat": 4,
 "nbformat_minor": 2
}
