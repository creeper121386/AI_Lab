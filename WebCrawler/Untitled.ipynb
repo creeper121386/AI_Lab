{
 "cells": [
  {
   "cell_type": "code",
   "execution_count": 7,
   "metadata": {},
   "outputs": [],
   "source": [
    "from urllib.request import urlopen\n",
    "import re\n",
    "from bs4 import BeautifulSoup\n",
    "import requests\n",
    "\n",
    "pageNum = 30\n",
    "localPath = '/run/media/why/DATA/why的程序测试/AI_Lab/DataSet/爬虫_landscape/'\n",
    "\n",
    "rootURL = 'http://konachan.net/'\n",
    "url = 'http://konachan.net/post?tags=clouds+landscape'\n",
    "\n",
    "imgFinder = re.compile(r'.*\\.jpg')"
   ]
  },
  {
   "cell_type": "code",
   "execution_count": 5,
   "metadata": {},
   "outputs": [
    {
     "name": "stdout",
     "output_type": "stream",
     "text": [
      "https://konachan.net/data/preview/b6/b8/b6b8363bef9067a3fea6ad524a6ea1a3.jpg\n",
      "https://konachan.net/data/preview/ee/d3/eed3867f7afa50a33b984a2dd53911dd.jpg\n",
      "https://konachan.net/data/preview/c0/3c/c03cf69ed890c3b16d0fef111b486b2d.jpg\n",
      "https://konachan.net/data/preview/4d/6b/4d6bead00b642957838f64d30b4decef.jpg\n",
      "https://konachan.net/data/preview/83/45/8345b75078f713a4915ce0b12811a509.jpg\n",
      "https://konachan.net/data/preview/7c/42/7c42a9164bcfb0fce7c88085f09d9dce.jpg\n",
      "https://konachan.net/data/preview/80/99/809959e6416348e3a9a180b356e56a6d.jpg\n",
      "https://konachan.net/data/preview/db/7d/db7d98defc522094f4d3321ebafb68b5.jpg\n",
      "https://konachan.net/data/preview/7f/c4/7fc4148bce6e4caa32f8210bd5c71e93.jpg\n",
      "https://konachan.net/data/preview/c4/24/c42488e01b0780bb1421a1007cee0fac.jpg\n",
      "https://konachan.net/data/preview/ca/aa/caaa076308575d859a22aef7f20c37eb.jpg\n",
      "https://konachan.net/data/preview/85/2d/852dbc76431f1e58b4225143711fb1b2.jpg\n",
      "https://konachan.net/data/preview/52/4c/524c41e3e2c277d444623f36c7c19bc2.jpg\n",
      "https://konachan.net/data/preview/23/60/23600f6f34f7b472d3b3afaa651ffb09.jpg\n",
      "https://konachan.net/data/preview/9b/80/9b803e9d19e6d39e371f6f5d4ff13ee5.jpg\n",
      "https://konachan.net/data/preview/9e/cf/9ecf0ed50baab0da53287104a4069e3a.jpg\n",
      "https://konachan.net/data/preview/bd/a5/bda581e41c5a358f5c9fa83ac8a929db.jpg\n",
      "https://konachan.net/data/preview/6b/45/6b45edb103320e3b398623495fcf8863.jpg\n",
      "https://konachan.net/data/preview/6d/ee/6dee5f7cddd98214e50ae30dc9752cd4.jpg\n",
      "https://konachan.net/data/preview/29/ba/29ba57e3003af5bfa9b4b4973c6c4841.jpg\n",
      "https://konachan.net/data/preview/6c/55/6c5574b1716de82b397fdde9f94e576c.jpg\n"
     ]
    }
   ],
   "source": [
    "html = urlopen(url).read()\n",
    "soup = BeautifulSoup(html, features='lxml')\n",
    "content = soup.find_all('img')\n",
    "for tag in content:\n",
    "    match = imgFinder.match(tag['src'])\n",
    "    if match:\n",
    "        print(match.group())"
   ]
  },
  {
   "cell_type": "code",
   "execution_count": 13,
   "metadata": {},
   "outputs": [
    {
     "name": "stdout",
     "output_type": "stream",
     "text": [
      "<Response [200]>\n"
     ]
    }
   ],
   "source": [
    "r = requests.get('http://www.baidu.com/s', params={\"wd\": \"搜索内容\"})\n",
    "print(r)"
   ]
  },
  {
   "cell_type": "code",
   "execution_count": 42,
   "metadata": {},
   "outputs": [
    {
     "name": "stdout",
     "output_type": "stream",
     "text": [
      "http://konachan.net/post/show/255933\n"
     ]
    }
   ],
   "source": [
    "p = re.split(' ', '#pl http://konachan.net/post/show/255933')\n",
    "print(p[-1])"
   ]
  },
  {
   "cell_type": "code",
   "execution_count": 36,
   "metadata": {},
   "outputs": [],
   "source": [
    "re.match(r'aj.*', 'abajhdja')"
   ]
  },
  {
   "cell_type": "code",
   "execution_count": null,
   "metadata": {},
   "outputs": [],
   "source": []
  }
 ],
 "metadata": {
  "kernelspec": {
   "display_name": "Python 3",
   "language": "python",
   "name": "python3"
  },
  "language_info": {
   "codemirror_mode": {
    "name": "ipython",
    "version": 3
   },
   "file_extension": ".py",
   "mimetype": "text/x-python",
   "name": "python",
   "nbconvert_exporter": "python",
   "pygments_lexer": "ipython3",
   "version": "3.6.4"
  }
 },
 "nbformat": 4,
 "nbformat_minor": 2
}
